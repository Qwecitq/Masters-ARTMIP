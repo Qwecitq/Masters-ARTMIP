{
 "cells": [
  {
   "cell_type": "code",
   "execution_count": null,
   "id": "4b349213-5393-48b6-afb6-99ec92b884e5",
   "metadata": {},
   "outputs": [],
   "source": []
  },
  {
   "cell_type": "code",
   "execution_count": 45,
   "id": "e3402e49-b454-402c-adec-f3978edb7d15",
   "metadata": {
    "tags": []
   },
   "outputs": [],
   "source": [
    "import numpy as np\n",
    "import calendar\n",
    "months_in_year = [calendar.month_abbr[m] for m in np.arange(1,13)]\n",
    "\n",
    "months_idx = {mon:idx+1 for idx,mon in enumerate(months_in_year)}\n",
    "\n",
    "seas = ['Dec','Jan','Feb']\n",
    "\n",
    "[months_idx.get(se) for se in seas]"
   ]
  },
  {
   "cell_type": "code",
   "execution_count": 46,
   "id": "3801d5ad-1c3c-45ff-a8c5-3e115edfe1dc",
   "metadata": {
    "tags": []
   },
   "outputs": [],
   "source": [
    "seas = 'Dec,Jan,Feb'"
   ]
  },
  {
   "cell_type": "code",
   "execution_count": 1,
   "id": "eda9fa5e-43ca-44d2-9f18-2fa0bd2f1302",
   "metadata": {
    "tags": []
   },
   "outputs": [
    {
     "name": "stdout",
     "output_type": "stream",
     "text": [
      "ARDT name: cascade_bard_v1 \n",
      "Bottom Latitude: -60 \n",
      "Left Longitude: -115 \n",
      "Threshold: 0.8 \n",
      "Seasons: ['Dec', 'Jan', 'Feb'] \n",
      "Sel Region Lon/Lat: [-73.5, -44.0] \n",
      "['/global/cfs/projectdirs/m1517/cascade/external_datasets/ARTMIP/tier1/ftp_mirror/cascade_bard_v1/MERRA2.ar_tag.cascade_bard_v1.3hourly.2013.nc4', '/global/cfs/projectdirs/m1517/cascade/external_datasets/ARTMIP/tier1/ftp_mirror/cascade_bard_v1/MERRA2.ar_tag.cascade_bard_v1.3hourly.1997.nc4', '/global/cfs/projectdirs/m1517/cascade/external_datasets/ARTMIP/tier1/ftp_mirror/cascade_bard_v1/MERRA2.ar_tag.cascade_bard_v1.3hourly.1986.nc4', '/global/cfs/projectdirs/m1517/cascade/external_datasets/ARTMIP/tier1/ftp_mirror/cascade_bard_v1/MERRA2.ar_tag.cascade_bard_v1.3hourly.2000.nc4', '/global/cfs/projectdirs/m1517/cascade/external_datasets/ARTMIP/tier1/ftp_mirror/cascade_bard_v1/MERRA2.ar_tag.cascade_bard_v1.3hourly.1992.nc4', '/global/cfs/projectdirs/m1517/cascade/external_datasets/ARTMIP/tier1/ftp_mirror/cascade_bard_v1/MERRA2.ar_tag.cascade_bard_v1.3hourly.1995.nc4', '/global/cfs/projectdirs/m1517/cascade/external_datasets/ARTMIP/tier1/ftp_mirror/cascade_bard_v1/MERRA2.ar_tag.cascade_bard_v1.3hourly.1988.nc4', '/global/cfs/projectdirs/m1517/cascade/external_datasets/ARTMIP/tier1/ftp_mirror/cascade_bard_v1/MERRA2.ar_tag.cascade_bard_v1.3hourly.2002.nc4', '/global/cfs/projectdirs/m1517/cascade/external_datasets/ARTMIP/tier1/ftp_mirror/cascade_bard_v1/MERRA2.ar_tag.cascade_bard_v1.3hourly.2012.nc4', '/global/cfs/projectdirs/m1517/cascade/external_datasets/ARTMIP/tier1/ftp_mirror/cascade_bard_v1/MERRA2.ar_tag.cascade_bard_v1.3hourly.1987.nc4', '/global/cfs/projectdirs/m1517/cascade/external_datasets/ARTMIP/tier1/ftp_mirror/cascade_bard_v1/MERRA2.ar_tag.cascade_bard_v1.3hourly.2017.nc4', '/global/cfs/projectdirs/m1517/cascade/external_datasets/ARTMIP/tier1/ftp_mirror/cascade_bard_v1/MERRA2.ar_tag.cascade_bard_v1.3hourly.2014.nc4', '/global/cfs/projectdirs/m1517/cascade/external_datasets/ARTMIP/tier1/ftp_mirror/cascade_bard_v1/MERRA2.ar_tag.cascade_bard_v1.3hourly.1994.nc4', '/global/cfs/projectdirs/m1517/cascade/external_datasets/ARTMIP/tier1/ftp_mirror/cascade_bard_v1/MERRA2.ar_tag.cascade_bard_v1.3hourly.1981.nc4', '/global/cfs/projectdirs/m1517/cascade/external_datasets/ARTMIP/tier1/ftp_mirror/cascade_bard_v1/MERRA2.ar_tag.cascade_bard_v1.3hourly.2004.nc4', '/global/cfs/projectdirs/m1517/cascade/external_datasets/ARTMIP/tier1/ftp_mirror/cascade_bard_v1/MERRA2.ar_tag.cascade_bard_v1.3hourly.1991.nc4', '/global/cfs/projectdirs/m1517/cascade/external_datasets/ARTMIP/tier1/ftp_mirror/cascade_bard_v1/MERRA2.ar_tag.cascade_bard_v1.3hourly.1983.nc4', '/global/cfs/projectdirs/m1517/cascade/external_datasets/ARTMIP/tier1/ftp_mirror/cascade_bard_v1/MERRA2.ar_tag.cascade_bard_v1.3hourly.1990.nc4', '/global/cfs/projectdirs/m1517/cascade/external_datasets/ARTMIP/tier1/ftp_mirror/cascade_bard_v1/MERRA2.ar_tag.cascade_bard_v1.3hourly.2009.nc4', '/global/cfs/projectdirs/m1517/cascade/external_datasets/ARTMIP/tier1/ftp_mirror/cascade_bard_v1/MERRA2.ar_tag.cascade_bard_v1.3hourly.2016.nc4', '/global/cfs/projectdirs/m1517/cascade/external_datasets/ARTMIP/tier1/ftp_mirror/cascade_bard_v1/MERRA2.ar_tag.cascade_bard_v1.3hourly.1980.nc4', '/global/cfs/projectdirs/m1517/cascade/external_datasets/ARTMIP/tier1/ftp_mirror/cascade_bard_v1/MERRA2.ar_tag.cascade_bard_v1.3hourly.1984.nc4', '/global/cfs/projectdirs/m1517/cascade/external_datasets/ARTMIP/tier1/ftp_mirror/cascade_bard_v1/MERRA2.ar_tag.cascade_bard_v1.3hourly.1982.nc4', '/global/cfs/projectdirs/m1517/cascade/external_datasets/ARTMIP/tier1/ftp_mirror/cascade_bard_v1/MERRA2.ar_tag.cascade_bard_v1.3hourly.2008.nc4', '/global/cfs/projectdirs/m1517/cascade/external_datasets/ARTMIP/tier1/ftp_mirror/cascade_bard_v1/MERRA2.ar_tag.cascade_bard_v1.3hourly.2007.nc4', '/global/cfs/projectdirs/m1517/cascade/external_datasets/ARTMIP/tier1/ftp_mirror/cascade_bard_v1/MERRA2.ar_tag.cascade_bard_v1.3hourly.1999.nc4', '/global/cfs/projectdirs/m1517/cascade/external_datasets/ARTMIP/tier1/ftp_mirror/cascade_bard_v1/MERRA2.ar_tag.cascade_bard_v1.3hourly.1993.nc4', '/global/cfs/projectdirs/m1517/cascade/external_datasets/ARTMIP/tier1/ftp_mirror/cascade_bard_v1/MERRA2.ar_tag.cascade_bard_v1.3hourly.2001.nc4', '/global/cfs/projectdirs/m1517/cascade/external_datasets/ARTMIP/tier1/ftp_mirror/cascade_bard_v1/MERRA2.ar_tag.cascade_bard_v1.3hourly.2015.nc4', '/global/cfs/projectdirs/m1517/cascade/external_datasets/ARTMIP/tier1/ftp_mirror/cascade_bard_v1/MERRA2.ar_tag.cascade_bard_v1.3hourly.1985.nc4', '/global/cfs/projectdirs/m1517/cascade/external_datasets/ARTMIP/tier1/ftp_mirror/cascade_bard_v1/MERRA2.ar_tag.cascade_bard_v1.3hourly.2006.nc4', '/global/cfs/projectdirs/m1517/cascade/external_datasets/ARTMIP/tier1/ftp_mirror/cascade_bard_v1/MERRA2.ar_tag.cascade_bard_v1.3hourly.2005.nc4', '/global/cfs/projectdirs/m1517/cascade/external_datasets/ARTMIP/tier1/ftp_mirror/cascade_bard_v1/MERRA2.ar_tag.cascade_bard_v1.3hourly.1998.nc4', '/global/cfs/projectdirs/m1517/cascade/external_datasets/ARTMIP/tier1/ftp_mirror/cascade_bard_v1/MERRA2.ar_tag.cascade_bard_v1.3hourly.1989.nc4', '/global/cfs/projectdirs/m1517/cascade/external_datasets/ARTMIP/tier1/ftp_mirror/cascade_bard_v1/MERRA2.ar_tag.cascade_bard_v1.3hourly.1996.nc4', '/global/cfs/projectdirs/m1517/cascade/external_datasets/ARTMIP/tier1/ftp_mirror/cascade_bard_v1/MERRA2.ar_tag.cascade_bard_v1.3hourly.2003.nc4', '/global/cfs/projectdirs/m1517/cascade/external_datasets/ARTMIP/tier1/ftp_mirror/cascade_bard_v1/MERRA2.ar_tag.cascade_bard_v1.3hourly.2011.nc4', '/global/cfs/projectdirs/m1517/cascade/external_datasets/ARTMIP/tier1/ftp_mirror/cascade_bard_v1/MERRA2.ar_tag.cascade_bard_v1.3hourly.2010.nc4']\n",
      "<xarray.Dataset>\n",
      "Dimensions:              (time: 27192, lat: 81, lon: 97, dim_ar_count: 1024, dim_parameter_table_row: 1024)\n",
      "Coordinates:\n",
      "  * time                 (time) datetime64[ns] 1980-01-01 ... 2017-02-28T21:0...\n",
      "  * lat                  (lat) float64 -60.0 -59.5 -59.0 ... -21.0 -20.5 -20.0\n",
      "  * lon                  (lon) float64 -115.0 -114.4 -113.8 ... -55.62 -55.0\n",
      "Dimensions without coordinates: dim_ar_count, dim_parameter_table_row\n",
      "Data variables:\n",
      "    ar_probability       (time, lat, lon) float32 dask.array<chunksize=(728, 81, 97), meta=np.ndarray>\n",
      "    ar_binary_tag        (time, lat, lon) int8 dask.array<chunksize=(728, 81, 97), meta=np.ndarray>\n",
      "    ar_count             (time, dim_ar_count) int32 dask.array<chunksize=(728, 1024), meta=np.ndarray>\n",
      "    parameter_table_row  (time, dim_parameter_table_row) int32 dask.array<chunksize=(728, 1024), meta=np.ndarray>\n",
      "Attributes:\n",
      "    history:  Thu Nov 21 14:29:25 2019: ncrcat MERRA2.ar_tag.cascade_bard_v1....\n",
      "    NCO:      netCDF Operators version 4.7.9 (Homepage = http://nco.sf.net, C...\n"
     ]
    }
   ],
   "source": [
    "#!/usr/bin/env python3\n",
    "# -*- coding: utf-8 -*-\n",
    "\n",
    "\n",
    "exec(open('imports.py').read())\n",
    "\n",
    "#input details from user\n",
    "ardt = 'cascade_bard_v1'#str(sys.argv[1])                                               #name of ardt \n",
    "\n",
    "blat =  -60# sys.argv[2] ; blat = int(blat)                             #bottom latitude\n",
    "llon = -115 #sys.argv[3] ; llon = int(llon)                              #left longitude \n",
    "\n",
    "threshold =0.8 # sys.argv[4] ; threshold = float(threshold)                             #set the threshold for the selection of landfall (usually between 0 and 1)\n",
    "\n",
    "seas = 'Dec,Jan,Feb'#'Jun,Jul,Aug'#sys.argv[5]                                         #this selects the seasons or the period the user wants to select for landfalling ARs\n",
    "seas = seas.split(',')\n",
    "\n",
    "\n",
    "#select the landfall region\n",
    "lfreg = '-73.5/-44'#sys.argv[6]\n",
    "lfreg = lfreg.split('/')                                       #split the string input by ','\n",
    "lfreg = [float(x) for x in lfreg]                        #convert the string numbers into floats\n",
    "\n",
    "\n",
    "\n",
    "#############################################################################################################\n",
    "#############################################  RECEIVED INPUTS  ##############################################\n",
    "#############################################################################################################\n",
    "#check if all inputs are right \n",
    "\n",
    "print(f'ARDT name: {ardt} \\nBottom Latitude: {blat} \\nLeft Longitude: {llon} \\nThreshold: {threshold} \\nSeasons: {seas} \\nSel Region Lon/Lat: {lfreg} ')\n",
    "\n",
    "\n",
    "\n",
    "#############################################################################################################\n",
    "########################################## Tunable Parameters #################################################\n",
    "#############################################################################################################\n",
    "\n",
    "#path to the dataset for selection\n",
    "mpath = '/global/cfs/projectdirs/m1517/cascade/external_datasets/ARTMIP/tier1/ftp_mirror/' \n",
    "\n",
    "#You can change this to suit what you want \n",
    "\n",
    "lat_width = 40                                    #region latitude width\n",
    "lon_width = 60                                   #region longitude width \n",
    "\n",
    "selection_box_width = 2                    #landfall region box width in both lon and lat directions\n",
    "\n",
    "#set the latitude and longitude range\n",
    "tlat = blat + lat_width\n",
    "rlon = llon + lon_width\n",
    "\n",
    "#############################################################################################################\n",
    "############################################ Select Season ####################################################\n",
    "#############################################################################################################\n",
    "\n",
    "\n",
    "#assign the calendar months into numbers\n",
    "months_in_year = [calendar.month_abbr[m] for m in np.arange(1,13)] \n",
    "months_idx = {mon:idx+1 for idx,mon in enumerate(months_in_year)}\n",
    "\n",
    "#select the period the user wants to select landfall for\n",
    "period = [months_idx.get(se) for se in seas]\n",
    "    \n",
    "\n",
    "#############################################################################################################\n",
    "############################################## Load data ######################################################\n",
    "#############################################################################################################\n",
    "\n",
    "\n",
    "#load files \n",
    "files= glob.glob(f'{mpath}{ardt}/*.nc*',recursive=True)\n",
    "print(files)\n",
    "data = xr.open_mfdataset(files,parallel=True).sel(lon=slice(llon,rlon), lat=slice(blat,tlat))\n",
    "data = data.isel(time=data.time.dt.month.isin(period))\n",
    "\n",
    " #print out data to inspect the selection is correct \n",
    "print(data)\n",
    "\n"
   ]
  },
  {
   "cell_type": "code",
   "execution_count": 2,
   "id": "1d239aef-cb24-4249-9b4b-9d93e6f46607",
   "metadata": {
    "tags": []
   },
   "outputs": [
    {
     "name": "stdout",
     "output_type": "stream",
     "text": [
      "<xarray.Dataset>\n",
      "Dimensions:              (time: 27192, lat: 5, lon: 3, dim_ar_count: 1024, dim_parameter_table_row: 1024)\n",
      "Coordinates:\n",
      "  * time                 (time) datetime64[ns] 1980-01-01 ... 2017-02-28T21:0...\n",
      "  * lat                  (lat) float64 -44.0 -43.5 -43.0 -42.5 -42.0\n",
      "  * lon                  (lon) float64 -73.12 -72.5 -71.88\n",
      "Dimensions without coordinates: dim_ar_count, dim_parameter_table_row\n",
      "Data variables:\n",
      "    ar_probability       (time, lat, lon) float32 dask.array<chunksize=(728, 5, 3), meta=np.ndarray>\n",
      "    ar_binary_tag        (time, lat, lon) int8 dask.array<chunksize=(728, 5, 3), meta=np.ndarray>\n",
      "    ar_count             (time, dim_ar_count) int32 dask.array<chunksize=(728, 1024), meta=np.ndarray>\n",
      "    parameter_table_row  (time, dim_parameter_table_row) int32 dask.array<chunksize=(728, 1024), meta=np.ndarray>\n",
      "Attributes:\n",
      "    history:  Thu Nov 21 14:29:25 2019: ncrcat MERRA2.ar_tag.cascade_bard_v1....\n",
      "    NCO:      netCDF Operators version 4.7.9 (Homepage = http://nco.sf.net, C...\n"
     ]
    }
   ],
   "source": [
    "#############################################################################################################\n",
    "######################################## Set Threshold for selection  ##############################################\n",
    "#############################################################################################################\n",
    "\n",
    "#select the region for the landfall test \n",
    "selection_box = data.sel(lon=slice(lfreg[0], lfreg[0]+selection_box_width),\n",
    "                        lat=slice( lfreg[1],  lfreg[1]+selection_box_width))\n",
    "\n",
    "print(selection_box)\n"
   ]
  },
  {
   "cell_type": "code",
   "execution_count": 75,
   "id": "ed96e1c3-932e-4ad2-ae04-8562eae97cb8",
   "metadata": {
    "collapsed": true,
    "jupyter": {
     "outputs_hidden": true
    },
    "tags": []
   },
   "outputs": [
    {
     "name": "stdout",
     "output_type": "stream",
     "text": [
      "2016-01-01T00:00:00.000000000\n"
     ]
    },
    {
     "ename": "KeyError",
     "evalue": "'ar_binary_tag'",
     "output_type": "error",
     "traceback": [
      "\u001b[0;31m---------------------------------------------------------------------------\u001b[0m",
      "\u001b[0;31mKeyError\u001b[0m                                  Traceback (most recent call last)",
      "\u001b[0;32m~/.conda/envs/climate_py38/lib/python3.8/site-packages/xarray/core/dataarray.py\u001b[0m in \u001b[0;36m_getitem_coord\u001b[0;34m(self, key)\u001b[0m\n\u001b[1;32m    735\u001b[0m         \u001b[0;32mtry\u001b[0m\u001b[0;34m:\u001b[0m\u001b[0;34m\u001b[0m\u001b[0;34m\u001b[0m\u001b[0m\n\u001b[0;32m--> 736\u001b[0;31m             \u001b[0mvar\u001b[0m \u001b[0;34m=\u001b[0m \u001b[0mself\u001b[0m\u001b[0;34m.\u001b[0m\u001b[0m_coords\u001b[0m\u001b[0;34m[\u001b[0m\u001b[0mkey\u001b[0m\u001b[0;34m]\u001b[0m\u001b[0;34m\u001b[0m\u001b[0;34m\u001b[0m\u001b[0m\n\u001b[0m\u001b[1;32m    737\u001b[0m         \u001b[0;32mexcept\u001b[0m \u001b[0mKeyError\u001b[0m\u001b[0;34m:\u001b[0m\u001b[0;34m\u001b[0m\u001b[0;34m\u001b[0m\u001b[0m\n",
      "\u001b[0;31mKeyError\u001b[0m: 'ar_binary_tag'",
      "\nDuring handling of the above exception, another exception occurred:\n",
      "\u001b[0;31mKeyError\u001b[0m                                  Traceback (most recent call last)",
      "\u001b[0;32m/tmp/ipykernel_1611255/1101929735.py\u001b[0m in \u001b[0;36m<module>\u001b[0;34m\u001b[0m\n\u001b[1;32m      3\u001b[0m     \u001b[0mprint\u001b[0m\u001b[0;34m(\u001b[0m\u001b[0mi\u001b[0m\u001b[0;34m)\u001b[0m\u001b[0;34m\u001b[0m\u001b[0;34m\u001b[0m\u001b[0m\n\u001b[1;32m      4\u001b[0m     \u001b[0msel_box\u001b[0m\u001b[0;34m=\u001b[0m\u001b[0mselection_box\u001b[0m\u001b[0;34m[\u001b[0m\u001b[0;34m'ar_binary_tag'\u001b[0m\u001b[0;34m]\u001b[0m\u001b[0;34m.\u001b[0m\u001b[0mchunk\u001b[0m\u001b[0;34m(\u001b[0m\u001b[0;34m{\u001b[0m\u001b[0;34m'time'\u001b[0m\u001b[0;34m:\u001b[0m\u001b[0;36m1\u001b[0m\u001b[0;34m}\u001b[0m\u001b[0;34m)\u001b[0m\u001b[0;34m\u001b[0m\u001b[0;34m\u001b[0m\u001b[0m\n\u001b[0;32m----> 5\u001b[0;31m     \u001b[0;32mif\u001b[0m \u001b[0msel_box\u001b[0m\u001b[0;34m[\u001b[0m\u001b[0;34m'ar_binary_tag'\u001b[0m\u001b[0;34m]\u001b[0m\u001b[0;34m.\u001b[0m\u001b[0msel\u001b[0m\u001b[0;34m(\u001b[0m\u001b[0mtime\u001b[0m\u001b[0;34m=\u001b[0m\u001b[0mi\u001b[0m\u001b[0;34m)\u001b[0m\u001b[0;34m.\u001b[0m\u001b[0mmean\u001b[0m\u001b[0;34m(\u001b[0m\u001b[0;34m)\u001b[0m\u001b[0;34m.\u001b[0m\u001b[0mvalues\u001b[0m\u001b[0;34m>=\u001b[0m\u001b[0mthreshold\u001b[0m\u001b[0;34m:\u001b[0m\u001b[0;34m\u001b[0m\u001b[0;34m\u001b[0m\u001b[0m\n\u001b[0m\u001b[1;32m      6\u001b[0m         \u001b[0mselected_times\u001b[0m\u001b[0;34m.\u001b[0m\u001b[0mappend\u001b[0m\u001b[0;34m(\u001b[0m\u001b[0mi\u001b[0m\u001b[0;34m)\u001b[0m\u001b[0;34m\u001b[0m\u001b[0;34m\u001b[0m\u001b[0m\n",
      "\u001b[0;32m~/.conda/envs/climate_py38/lib/python3.8/site-packages/xarray/core/dataarray.py\u001b[0m in \u001b[0;36m__getitem__\u001b[0;34m(self, key)\u001b[0m\n\u001b[1;32m    745\u001b[0m     \u001b[0;32mdef\u001b[0m \u001b[0m__getitem__\u001b[0m\u001b[0;34m(\u001b[0m\u001b[0mself\u001b[0m\u001b[0;34m,\u001b[0m \u001b[0mkey\u001b[0m\u001b[0;34m:\u001b[0m \u001b[0mAny\u001b[0m\u001b[0;34m)\u001b[0m \u001b[0;34m->\u001b[0m \u001b[0;34m\"DataArray\"\u001b[0m\u001b[0;34m:\u001b[0m\u001b[0;34m\u001b[0m\u001b[0;34m\u001b[0m\u001b[0m\n\u001b[1;32m    746\u001b[0m         \u001b[0;32mif\u001b[0m \u001b[0misinstance\u001b[0m\u001b[0;34m(\u001b[0m\u001b[0mkey\u001b[0m\u001b[0;34m,\u001b[0m \u001b[0mstr\u001b[0m\u001b[0;34m)\u001b[0m\u001b[0;34m:\u001b[0m\u001b[0;34m\u001b[0m\u001b[0;34m\u001b[0m\u001b[0m\n\u001b[0;32m--> 747\u001b[0;31m             \u001b[0;32mreturn\u001b[0m \u001b[0mself\u001b[0m\u001b[0;34m.\u001b[0m\u001b[0m_getitem_coord\u001b[0m\u001b[0;34m(\u001b[0m\u001b[0mkey\u001b[0m\u001b[0;34m)\u001b[0m\u001b[0;34m\u001b[0m\u001b[0;34m\u001b[0m\u001b[0m\n\u001b[0m\u001b[1;32m    748\u001b[0m         \u001b[0;32melse\u001b[0m\u001b[0;34m:\u001b[0m\u001b[0;34m\u001b[0m\u001b[0;34m\u001b[0m\u001b[0m\n\u001b[1;32m    749\u001b[0m             \u001b[0;31m# xarray-style array indexing\u001b[0m\u001b[0;34m\u001b[0m\u001b[0;34m\u001b[0m\u001b[0;34m\u001b[0m\u001b[0m\n",
      "\u001b[0;32m~/.conda/envs/climate_py38/lib/python3.8/site-packages/xarray/core/dataarray.py\u001b[0m in \u001b[0;36m_getitem_coord\u001b[0;34m(self, key)\u001b[0m\n\u001b[1;32m    737\u001b[0m         \u001b[0;32mexcept\u001b[0m \u001b[0mKeyError\u001b[0m\u001b[0;34m:\u001b[0m\u001b[0;34m\u001b[0m\u001b[0;34m\u001b[0m\u001b[0m\n\u001b[1;32m    738\u001b[0m             \u001b[0mdim_sizes\u001b[0m \u001b[0;34m=\u001b[0m \u001b[0mdict\u001b[0m\u001b[0;34m(\u001b[0m\u001b[0mzip\u001b[0m\u001b[0;34m(\u001b[0m\u001b[0mself\u001b[0m\u001b[0;34m.\u001b[0m\u001b[0mdims\u001b[0m\u001b[0;34m,\u001b[0m \u001b[0mself\u001b[0m\u001b[0;34m.\u001b[0m\u001b[0mshape\u001b[0m\u001b[0;34m)\u001b[0m\u001b[0;34m)\u001b[0m\u001b[0;34m\u001b[0m\u001b[0;34m\u001b[0m\u001b[0m\n\u001b[0;32m--> 739\u001b[0;31m             _, key, var = _get_virtual_variable(\n\u001b[0m\u001b[1;32m    740\u001b[0m                 \u001b[0mself\u001b[0m\u001b[0;34m.\u001b[0m\u001b[0m_coords\u001b[0m\u001b[0;34m,\u001b[0m \u001b[0mkey\u001b[0m\u001b[0;34m,\u001b[0m \u001b[0mself\u001b[0m\u001b[0;34m.\u001b[0m\u001b[0m_level_coords\u001b[0m\u001b[0;34m,\u001b[0m \u001b[0mdim_sizes\u001b[0m\u001b[0;34m\u001b[0m\u001b[0;34m\u001b[0m\u001b[0m\n\u001b[1;32m    741\u001b[0m             )\n",
      "\u001b[0;32m~/.conda/envs/climate_py38/lib/python3.8/site-packages/xarray/core/dataset.py\u001b[0m in \u001b[0;36m_get_virtual_variable\u001b[0;34m(variables, key, level_vars, dim_sizes)\u001b[0m\n\u001b[1;32m    171\u001b[0m         \u001b[0mref_var\u001b[0m \u001b[0;34m=\u001b[0m \u001b[0mdim_var\u001b[0m\u001b[0;34m.\u001b[0m\u001b[0mto_index_variable\u001b[0m\u001b[0;34m(\u001b[0m\u001b[0;34m)\u001b[0m\u001b[0;34m.\u001b[0m\u001b[0mget_level_variable\u001b[0m\u001b[0;34m(\u001b[0m\u001b[0mref_name\u001b[0m\u001b[0;34m)\u001b[0m\u001b[0;34m\u001b[0m\u001b[0;34m\u001b[0m\u001b[0m\n\u001b[1;32m    172\u001b[0m     \u001b[0;32melse\u001b[0m\u001b[0;34m:\u001b[0m\u001b[0;34m\u001b[0m\u001b[0;34m\u001b[0m\u001b[0m\n\u001b[0;32m--> 173\u001b[0;31m         \u001b[0mref_var\u001b[0m \u001b[0;34m=\u001b[0m \u001b[0mvariables\u001b[0m\u001b[0;34m[\u001b[0m\u001b[0mref_name\u001b[0m\u001b[0;34m]\u001b[0m\u001b[0;34m\u001b[0m\u001b[0;34m\u001b[0m\u001b[0m\n\u001b[0m\u001b[1;32m    174\u001b[0m \u001b[0;34m\u001b[0m\u001b[0m\n\u001b[1;32m    175\u001b[0m     \u001b[0;32mif\u001b[0m \u001b[0mvar_name\u001b[0m \u001b[0;32mis\u001b[0m \u001b[0;32mNone\u001b[0m\u001b[0;34m:\u001b[0m\u001b[0;34m\u001b[0m\u001b[0;34m\u001b[0m\u001b[0m\n",
      "\u001b[0;31mKeyError\u001b[0m: 'ar_binary_tag'"
     ]
    }
   ],
   "source": [
    "seleceted_times=[]\n",
    "for ix,i in enumerate(selection_box.time.values):\n",
    "    print(i)\n",
    "    sel_box=selection_box['ar_binary_tag'].chunk({'time':1})\n",
    "    if sel_box['ar_binary_tag'].sel(time=i).mean().values>=threshold:\n",
    "        selected_times.append(i)"
   ]
  },
  {
   "cell_type": "code",
   "execution_count": 82,
   "id": "b32adbbc-9aa6-4ac5-b40a-b8b055609bae",
   "metadata": {
    "tags": []
   },
   "outputs": [
    {
     "data": {
      "text/plain": [
       "0.8"
      ]
     },
     "execution_count": 82,
     "metadata": {},
     "output_type": "execute_result"
    }
   ],
   "source": [
    "threshold"
   ]
  },
  {
   "cell_type": "code",
   "execution_count": 3,
   "id": "99ad455f-6c51-4109-9c06-13e4fc6c03eb",
   "metadata": {
    "tags": []
   },
   "outputs": [],
   "source": [
    "sel_box=selection_box['ar_binary_tag'].chunk({'time':1})\n",
    "selected_times= sel_box.time.where(sel_box.mean(['lon','lat']) >= threshold,drop=True).values"
   ]
  },
  {
   "cell_type": "code",
   "execution_count": 73,
   "id": "375b1971-bd87-4672-ac33-14968404c003",
   "metadata": {
    "tags": []
   },
   "outputs": [
    {
     "data": {
      "text/plain": [
       "array(0.)"
      ]
     },
     "execution_count": 73,
     "metadata": {},
     "output_type": "execute_result"
    }
   ],
   "source": [
    "selection_box['ar_binary_tag'].sel(time=i).mean().values"
   ]
  },
  {
   "cell_type": "code",
   "execution_count": 7,
   "id": "23f761bd-be13-4616-b25b-7b7539b1893a",
   "metadata": {
    "tags": []
   },
   "outputs": [
    {
     "data": {
      "text/html": [
       "<pre>&lt;xarray.Dataset&gt;\n",
       "Dimensions:              (time: 1424, lat: 81, lon: 97, dim_ar_count: 1024, dim_parameter_table_row: 1024)\n",
       "Coordinates:\n",
       "  * time                 (time) datetime64[ns] 1980-01-07T06:00:00 ... 2017-0...\n",
       "  * lat                  (lat) float64 -60.0 -59.5 -59.0 ... -21.0 -20.5 -20.0\n",
       "  * lon                  (lon) float64 -115.0 -114.4 -113.8 ... -55.62 -55.0\n",
       "Dimensions without coordinates: dim_ar_count, dim_parameter_table_row\n",
       "Data variables:\n",
       "    ar_probability       (time, lat, lon) float32 dask.array&lt;chunksize=(71, 81, 97), meta=np.ndarray&gt;\n",
       "    ar_binary_tag        (time, lat, lon) int8 dask.array&lt;chunksize=(71, 81, 97), meta=np.ndarray&gt;\n",
       "    ar_count             (time, dim_ar_count) int32 dask.array&lt;chunksize=(71, 1024), meta=np.ndarray&gt;\n",
       "    parameter_table_row  (time, dim_parameter_table_row) int32 dask.array&lt;chunksize=(71, 1024), meta=np.ndarray&gt;\n",
       "Attributes:\n",
       "    history:  Thu Nov 21 14:29:25 2019: ncrcat MERRA2.ar_tag.cascade_bard_v1....\n",
       "    NCO:      netCDF Operators version 4.7.9 (Homepage = http://nco.sf.net, C...</pre>"
      ],
      "text/plain": [
       "<xarray.Dataset>\n",
       "Dimensions:              (time: 1424, lat: 81, lon: 97, dim_ar_count: 1024, dim_parameter_table_row: 1024)\n",
       "Coordinates:\n",
       "  * time                 (time) datetime64[ns] 1980-01-07T06:00:00 ... 2017-0...\n",
       "  * lat                  (lat) float64 -60.0 -59.5 -59.0 ... -21.0 -20.5 -20.0\n",
       "  * lon                  (lon) float64 -115.0 -114.4 -113.8 ... -55.62 -55.0\n",
       "Dimensions without coordinates: dim_ar_count, dim_parameter_table_row\n",
       "Data variables:\n",
       "    ar_probability       (time, lat, lon) float32 dask.array<chunksize=(71, 81, 97), meta=np.ndarray>\n",
       "    ar_binary_tag        (time, lat, lon) int8 dask.array<chunksize=(71, 81, 97), meta=np.ndarray>\n",
       "    ar_count             (time, dim_ar_count) int32 dask.array<chunksize=(71, 1024), meta=np.ndarray>\n",
       "    parameter_table_row  (time, dim_parameter_table_row) int32 dask.array<chunksize=(71, 1024), meta=np.ndarray>\n",
       "Attributes:\n",
       "    history:  Thu Nov 21 14:29:25 2019: ncrcat MERRA2.ar_tag.cascade_bard_v1....\n",
       "    NCO:      netCDF Operators version 4.7.9 (Homepage = http://nco.sf.net, C..."
      ]
     },
     "execution_count": 7,
     "metadata": {},
     "output_type": "execute_result"
    }
   ],
   "source": [
    "xr.open_mfdataset('larger_region_AR_capture/south_america_cascade_bard_v1_phd/*.nc')"
   ]
  },
  {
   "cell_type": "code",
   "execution_count": 6,
   "id": "88ec60c7-ab77-4887-a450-bd2776f8aafc",
   "metadata": {},
   "outputs": [
    {
     "data": {
      "text/html": [
       "<pre>&lt;xarray.Dataset&gt;\n",
       "Dimensions:        (ens: 1, time: 2213, lev: 1, lat: 81, lon: 97, limitID: 5, stageID: 9)\n",
       "Coordinates:\n",
       "  * lon            (lon) float64 -115.0 -114.4 -113.8 ... -56.25 -55.62 -55.0\n",
       "  * lat            (lat) float64 -60.0 -59.5 -59.0 -58.5 ... -21.0 -20.5 -20.0\n",
       "  * lev            (lev) float64 1e+03\n",
       "  * time           (time) datetime64[ns] 1980-01-07T18:00:00 ... 2017-02-28T1...\n",
       "  * ens            (ens) float64 1.0\n",
       "  * stageID        (stageID) float64 1.0 2.0 3.0 4.0 5.0 6.0 7.0 8.0 9.0\n",
       "  * limitID        (limitID) float64 nan nan nan nan nan\n",
       "Data variables: (12/32)\n",
       "    shape          (ens, time, lev, lat, lon) float32 dask.array&lt;chunksize=(1, 89, 1, 81, 97), meta=np.ndarray&gt;\n",
       "    axis           (ens, time, lev, lat, lon) float64 dask.array&lt;chunksize=(1, 89, 1, 81, 97), meta=np.ndarray&gt;\n",
       "    tnsct          (ens, time, lev, lat, lon) float64 dask.array&lt;chunksize=(1, 89, 1, 81, 97), meta=np.ndarray&gt;\n",
       "    lfloc          (ens, time, lev, lat, lon) float32 dask.array&lt;chunksize=(1, 89, 1, 81, 97), meta=np.ndarray&gt;\n",
       "    ar_binary_tag  (time, lat, lon) int8 dask.array&lt;chunksize=(89, 81, 97), meta=np.ndarray&gt;\n",
       "    islnd          (time, lat, lon) float32 dask.array&lt;chunksize=(89, 81, 97), meta=np.ndarray&gt;\n",
       "    ...             ...\n",
       "    lflon          (ens, time, lev, lat) float32 dask.array&lt;chunksize=(1, 89, 1, 81), meta=np.ndarray&gt;\n",
       "    lflat          (ens, time, lev, lat) float32 dask.array&lt;chunksize=(1, 89, 1, 81), meta=np.ndarray&gt;\n",
       "    lfivtx         (ens, time, lev, lat) float32 dask.array&lt;chunksize=(1, 89, 1, 81), meta=np.ndarray&gt;\n",
       "    lfivty         (ens, time, lev, lat) float32 dask.array&lt;chunksize=(1, 89, 1, 81), meta=np.ndarray&gt;\n",
       "    lfivtdir       (ens, time, lev, lat) float32 dask.array&lt;chunksize=(1, 89, 1, 81), meta=np.ndarray&gt;\n",
       "    numobj         (ens, time, lev, limitID, stageID) float32 dask.array&lt;chunksize=(1, 89, 1, 5, 9), meta=np.ndarray&gt;\n",
       "Attributes:\n",
       "    title:           Global Atmospheric River Database\n",
       "    version:         2017.11.05\n",
       "    creation_date:   05-Nov-2017 18:50:33\n",
       "    tARget_version:  1.229_ARTMIP\n",
       "    reference:       Guan, B., and D. E. Waliser (2015), Detection of atmosph...</pre>"
      ],
      "text/plain": [
       "<xarray.Dataset>\n",
       "Dimensions:        (ens: 1, time: 2213, lev: 1, lat: 81, lon: 97, limitID: 5, stageID: 9)\n",
       "Coordinates:\n",
       "  * lon            (lon) float64 -115.0 -114.4 -113.8 ... -56.25 -55.62 -55.0\n",
       "  * lat            (lat) float64 -60.0 -59.5 -59.0 -58.5 ... -21.0 -20.5 -20.0\n",
       "  * lev            (lev) float64 1e+03\n",
       "  * time           (time) datetime64[ns] 1980-01-07T18:00:00 ... 2017-02-28T1...\n",
       "  * ens            (ens) float64 1.0\n",
       "  * stageID        (stageID) float64 1.0 2.0 3.0 4.0 5.0 6.0 7.0 8.0 9.0\n",
       "  * limitID        (limitID) float64 nan nan nan nan nan\n",
       "Data variables: (12/32)\n",
       "    shape          (ens, time, lev, lat, lon) float32 dask.array<chunksize=(1, 89, 1, 81, 97), meta=np.ndarray>\n",
       "    axis           (ens, time, lev, lat, lon) float64 dask.array<chunksize=(1, 89, 1, 81, 97), meta=np.ndarray>\n",
       "    tnsct          (ens, time, lev, lat, lon) float64 dask.array<chunksize=(1, 89, 1, 81, 97), meta=np.ndarray>\n",
       "    lfloc          (ens, time, lev, lat, lon) float32 dask.array<chunksize=(1, 89, 1, 81, 97), meta=np.ndarray>\n",
       "    ar_binary_tag  (time, lat, lon) int8 dask.array<chunksize=(89, 81, 97), meta=np.ndarray>\n",
       "    islnd          (time, lat, lon) float32 dask.array<chunksize=(89, 81, 97), meta=np.ndarray>\n",
       "    ...             ...\n",
       "    lflon          (ens, time, lev, lat) float32 dask.array<chunksize=(1, 89, 1, 81), meta=np.ndarray>\n",
       "    lflat          (ens, time, lev, lat) float32 dask.array<chunksize=(1, 89, 1, 81), meta=np.ndarray>\n",
       "    lfivtx         (ens, time, lev, lat) float32 dask.array<chunksize=(1, 89, 1, 81), meta=np.ndarray>\n",
       "    lfivty         (ens, time, lev, lat) float32 dask.array<chunksize=(1, 89, 1, 81), meta=np.ndarray>\n",
       "    lfivtdir       (ens, time, lev, lat) float32 dask.array<chunksize=(1, 89, 1, 81), meta=np.ndarray>\n",
       "    numobj         (ens, time, lev, limitID, stageID) float32 dask.array<chunksize=(1, 89, 1, 5, 9), meta=np.ndarray>\n",
       "Attributes:\n",
       "    title:           Global Atmospheric River Database\n",
       "    version:         2017.11.05\n",
       "    creation_date:   05-Nov-2017 18:50:33\n",
       "    tARget_version:  1.229_ARTMIP\n",
       "    reference:       Guan, B., and D. E. Waliser (2015), Detection of atmosph..."
      ]
     },
     "execution_count": 6,
     "metadata": {},
     "output_type": "execute_result"
    }
   ],
   "source": [
    "xr.open_mfdataset('larger_region_AR_capture/south_america_guan_waliser_phd/*.nc')"
   ]
  },
  {
   "cell_type": "code",
   "execution_count": null,
   "id": "ff519303-33e2-4ed8-a1b2-20ed57a8bc23",
   "metadata": {},
   "outputs": [],
   "source": []
  }
 ],
 "metadata": {
  "kernelspec": {
   "display_name": "climate_py38",
   "language": "python",
   "name": "climate_py38"
  },
  "language_info": {
   "codemirror_mode": {
    "name": "ipython",
    "version": 3
   },
   "file_extension": ".py",
   "mimetype": "text/x-python",
   "name": "python",
   "nbconvert_exporter": "python",
   "pygments_lexer": "ipython3",
   "version": "3.8.12"
  }
 },
 "nbformat": 4,
 "nbformat_minor": 5
}
